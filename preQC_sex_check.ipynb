{
 "cells": [
  {
   "cell_type": "markdown",
   "id": "967883d6",
   "metadata": {},
   "source": [
    "This notebook analyzes the files generated druing the sex check.\n",
    "\n",
    "After generating general reports on the whole data, we also want to analyze the sex chromosomes separately. We use PLINK 1.9 software to determine the sex based on the data on the X chromosome (1=male, 2=female). The sex check algorithm flags individuals whom the reported sex in the PED file does not match the estimated sex (from given genomic data). \n",
    "The following commands were used to generate the final files.\n",
    "\n",
    "plink --vcf PREFIX.chrX.vcf --keep-allele-order --vcf-half-call m --make-bed --out PREFIX.chrX.plink\n",
    "\n",
    "plink --bfile PREFIX.chrX.plink --update-sex $new_sex --make-bed --out PREFIX.chrX.plink.sex\n",
    "\n",
    "plink --bfile PREFIX.chrX.plink.sex --split-x hg38 --make-bed --out PREFIX.chrX.plink.sex.split-x\n",
    "\n",
    "plink --bfile PREFIX.chrX.plink.sex.split-x --set-missing-var-ids @:#[b37]\\\\\\\\$1,\\\\\\\\$2 --make-bed --out PREFIX.chrX.plink.sex.split-x.id\n",
    "\n",
    "plink --bfile PREFIX.chrX.plink.sex.split-x.id --indep-pairphase 20000 2000 0.5\n",
    "\n",
    "plink --bfile PREFIX.chrX.plink.sex.split-x.id --extract plink.prune.in --make-bed --out PREFIX.chrX.plink.sex.split-x.id.LD\n",
    "\n",
    "plink --bfile PREFIX.chrX.plink.sex.split-x.id.LD --check-sex --out PREFIX.chrX.plink.sex.split-x.id.LD.Xsex"
   ]
  },
  {
   "cell_type": "markdown",
   "id": "ec62da73",
   "metadata": {},
   "source": [
    "At the end of the analysis we have multiple files:\n",
    "\n",
    "1. joint_colombia_annotated.hg38.chrX.plink.sex.split-x.id.LD.bed\n",
    "\n",
    "PLINK binary biallelic genotype table, primary representation of genotype calls at biallelic variants. Must be accompanied by .bim and .fam files.\n",
    "\n",
    "\n",
    "2. joint_colombia_annotated.hg38.chrX.plink.sex.split-x.id.LD.bim\n",
    "\n",
    "PLINK extended MAP file (each line of the MAP file describes a single marker) , extended variant information file accompanying a .bed binary genotype table.\n",
    "Info includes: Chromosome code, Variant identifier, Position in morgans, Base-pair coordinate, allele 1, allele 2\n",
    "\n",
    "\n",
    "3. joint_colombia_annotated.hg38.chrX.plink.sex.split-x.id.LD.fam\n",
    "\n",
    "PLINK sample information file, information includes: Family ID ('FID'), Within-family ID ('IID'; cannot be '0'), Within-family ID of father , Within-family ID of mother, Sex code, Phenotype value \n",
    "\n",
    "\n",
    "4. joint_colombia_annotated.hg38.chrX.plink.sex.split-x.id.LD.Xsex.hh\n",
    "\n",
    "heterozygous haploid and nonmale Y chromosome call list, produced automatically when the input data contains heterozygous calls where they shouldn't be possible (haploid chromosomes, male X/Y), or there are nonmissing calls for nonmales on the Y chromosome.\n",
    "\n",
    "\n",
    "5. joint_colombia_annotated.hg38.chrX.plink.sex.split-x.id.LD.Xsex.log\n",
    "\n",
    "\n",
    "6. joint_colombia_annotated.hg38.chrX.plink.sex.split-x.id.LD.Xsex.sexcheck\n",
    "\n",
    "X chromosome-based sex validity report, info includes: Family ID, Within-family ID, Sex code in input file, Imputed sex code, Inbreeding coefficient, considering only X chromosome"
   ]
  },
  {
   "cell_type": "code",
   "execution_count": 1,
   "id": "7e1fee56",
   "metadata": {},
   "outputs": [],
   "source": [
    "# Import relevant libraries\n",
    "\n",
    "import matplotlib.pyplot as plt\n",
    "import numpy as np\n",
    "import pandas as pd\n",
    "import os"
   ]
  },
  {
   "cell_type": "code",
   "execution_count": 2,
   "id": "350007e2",
   "metadata": {},
   "outputs": [
    {
     "name": "stdout",
     "output_type": "stream",
     "text": [
      "1: 53, 2:569, problems: 403\n",
      "expected 2: 611\n",
      "total: 1025\n"
     ]
    }
   ],
   "source": [
    "notebook_path = os.path.abspath(\"preQC_general_analysis.ipynb\")\n",
    "name = 'joint_colombia_annotated.hg38'\n",
    "sexcheck_file_path = os.path.join(os.path.dirname(notebook_path), \"data/chrX/\" + name + \".chrX.plink.sex.split-x.id.LD.Xsex.sexcheck\")\n",
    "\n",
    "\n",
    "# Separate samples into XX and XY based on plink algorithms\n",
    "samples_1, samples_2, samples_problem = [], [], []\n",
    "ped_2 = 0\n",
    "with open(sexcheck_file_path, 'r') as f:\n",
    "    f.readline()     # skip header\n",
    "    for line in f:\n",
    "        sample_id, pedsex, snpsex = line.split()[0], line.split()[2], line.split()[3]\n",
    "        if pedsex == '2':\n",
    "            ped_2 += 1\n",
    "        if snpsex == '2':\n",
    "            samples_2.append(sample_id)\n",
    "        elif snpsex == '1':\n",
    "            samples_1.append(sample_id)\n",
    "        else:\n",
    "            samples_problem.append(sample_id)\n",
    "            \n",
    "            \n",
    "print('1: %d, 2:%d, problems: %d' %(len(samples_1), len(samples_2), len(samples_problem)))\n",
    "print('expected 2: %d' %ped_2)\n",
    "print('total: %d' %len(samples_1+samples_2+samples_problem))"
   ]
  },
  {
   "cell_type": "code",
   "execution_count": null,
   "id": "5815d40e",
   "metadata": {},
   "outputs": [],
   "source": []
  }
 ],
 "metadata": {
  "kernelspec": {
   "display_name": "Python 3 (ipykernel)",
   "language": "python",
   "name": "python3"
  },
  "language_info": {
   "codemirror_mode": {
    "name": "ipython",
    "version": 3
   },
   "file_extension": ".py",
   "mimetype": "text/x-python",
   "name": "python",
   "nbconvert_exporter": "python",
   "pygments_lexer": "ipython3",
   "version": "3.8.10"
  }
 },
 "nbformat": 4,
 "nbformat_minor": 5
}
