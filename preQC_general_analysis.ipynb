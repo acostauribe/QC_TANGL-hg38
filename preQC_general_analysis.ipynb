{
 "cells": [
  {
   "cell_type": "markdown",
   "id": "11724cea",
   "metadata": {},
   "source": [
    "This is a notebook that analyzes the files created to describe the dataset before the quality control step.\n",
    "\n",
    "The files were created using commands:\n",
    "\n",
    "1. Data description -> General distribution of depth, missingness, heterozygosity (.vchk file output)\n",
    "bcftools stats joint.hg38.vcf.gz > joint.hg38.vchk\n",
    "\n",
    "2. Generate a summary of the number of SNPs and Ts/Tv ratio for each FILTER category. (.FILTER.summary file output)\n",
    "vcftools --gzvcf joint.hg38.vcf.gz --FILTER-summary --out joint.hg38.PRE-QC\n",
    " \n",
    "3. Site missingness -> Generate a file reporting the missingness on a per-site basis. (.lmiss file output)\n",
    "vcftools --gzvcf joint.hg38.vcf.gz --missing-site --out joint.hg38.PRE-QC\n",
    "\n",
    "4. Individual missingness -> Generate a file reporting the missingness on a per-individual basis.(.imiss file output)\n",
    "vcftools --gzvcf joint.hg38.vcf.gz --missing-indv --out joint.hg38.PRE-QC\n",
    "\n",
    "5. Site depth -> Generate a file containing the mean depth per site across all individuals. (ldepth.mean file output)\n",
    "vcftools --gzvcf joint.hg38.vcf.gz --site-mean-depth --out joint.hg38.PRE-QC \n",
    "\n",
    "6. Individual depth -> Generate a file containing the mean depth per individual. (.idepth file output)\n",
    "vcftools --gzvcf joint.hg38.vcf.gz --depth --out joint.hg38.PRE-QC\n",
    "\n",
    "7. Individual heterozygosity (.het file output)\n",
    "vcftools --gzvcf joint.hg38.vcf.gz --het --out joint.hg38.PRE-QC\n",
    "\n",
    "bcftools version: 1.9-94-g9589876\n",
    "vcftools version: 0.1.15"
   ]
  },
  {
   "cell_type": "markdown",
   "id": "36956713",
   "metadata": {},
   "source": [
    "Short summary of what we expect to learn from each file\n",
    "\n",
    "1. vchk : stats by non-reference allele frequency, depth distribution, stats by quality and per-sample counts, singleton stats, etc. are included in this file\n",
    "\n",
    "2. FILTER.summary : Generates a summary of the number of SNPs and Ts/Tv ratio for each FILTER category\n",
    "\n",
    "3. lmiss : reports the missingness on a per-site basis\n",
    "\n",
    "4. imiss : reports the missingness on a per-individual basis\n",
    "\n",
    "5. ldepth.mean : contains the mean depth per site averaged across all individuals\n",
    "\n",
    "6. idepth : contains the mean depth per individual\n",
    "\n",
    "7. het : Calculates a measure of heterozygosity on a per-individual basis. Specfically, the inbreeding coefficient, F, is estimated for each individual using a method of moments"
   ]
  },
  {
   "cell_type": "code",
   "execution_count": 8,
   "id": "cd21a0bf",
   "metadata": {},
   "outputs": [],
   "source": [
    "# Import relevant libraries\n",
    "\n",
    "import matplotlib.pyplot as plt\n",
    "import numpy as np\n",
    "import os"
   ]
  },
  {
   "cell_type": "code",
   "execution_count": 7,
   "id": "98f76f3a",
   "metadata": {},
   "outputs": [
    {
     "name": "stdout",
     "output_type": "stream",
     "text": [
      "1\n",
      "2\n",
      "3\n",
      "4\n",
      "5\n",
      "6\n",
      "7\n",
      "8\n",
      "9\n",
      "10\n",
      "11\n",
      "12\n",
      "13\n",
      "14\n",
      "15\n",
      "16\n",
      "17\n",
      "18\n",
      "19\n",
      "20\n",
      "21\n",
      "22\n",
      "X\n",
      "Y\n"
     ]
    }
   ],
   "source": [
    "# Check the mean depth per chromosome using ldepth.mean file\n",
    "# Does each chromosome have similar mean depth or is there a variation? \n",
    "# Are there regions in each chromosomes that have smaller mean depth than other?\n",
    "\n",
    "\n",
    "notebook_path = os.path.abspath(\"preQC_general_analysis.ipynb\")\n",
    "depth_file_path = os.path.join(os.path.dirname(notebook_path), \"data/joint.hg38.PRE-QC.ldepth.mean\")\n",
    "\n",
    "# Read the mean depth file and divide the info into chromosomes.\n",
    "per_chr_depth = {}\n",
    "with open(depth_file_path, 'r') as f:\n",
    "    f.readline()  # skip header\n",
    "    for line in f:\n",
    "        ch, depth = line.split('\\t')[0][3:], float(line.split('\\t')[2])\n",
    "        if ch not in per_chr_depth.keys():\n",
    "            print(ch)\n",
    "            per_chr_depth[ch] = [depth]\n",
    "        else:\n",
    "            per_chr_depth[ch].append(depth)\n",
    "        "
   ]
  },
  {
   "cell_type": "code",
   "execution_count": 23,
   "id": "e365c445",
   "metadata": {},
   "outputs": [
    {
     "data": {
      "image/png": "[encoded data removed]",
      "text/plain": [
       "<Figure size 432x288 with 1 Axes>"
      ]
     },
     "metadata": {
      "needs_background": "light"
     },
     "output_type": "display_data"
    }
   ],
   "source": [
    "# Plot the mean depth of each chromosome \n",
    "plt.bar(list (per_chr_depth.keys()),[np.mean(per_chr_depth[i]) for i in per_chr_depth.keys()])\n",
    "plt.title('Mean depth per site per chromosome')\n",
    "plt.xlabel('chromosome')\n",
    "plt.ylabel('mean depth')\n",
    "plt.show()"
   ]
  },
  {
   "cell_type": "code",
   "execution_count": null,
   "id": "d467abb8",
   "metadata": {},
   "outputs": [],
   "source": []
  }
 ],
 "metadata": {
  "kernelspec": {
   "display_name": "Python 3 (ipykernel)",
   "language": "python",
   "name": "python3"
  },
  "language_info": {
   "codemirror_mode": {
    "name": "ipython",
    "version": 3
   },
   "file_extension": ".py",
   "mimetype": "text/x-python",
   "name": "python",
   "nbconvert_exporter": "python",
   "pygments_lexer": "ipython3",
   "version": "3.8.10"
  }
 },
 "nbformat": 4,
 "nbformat_minor": 5
}
